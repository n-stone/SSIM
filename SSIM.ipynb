{
  "cells": [
    {
      "cell_type": "code",
      "execution_count": null,
      "metadata": {
        "id": "fq-Jsc9WxzI_"
      },
      "outputs": [],
      "source": [
        "import torch  \n",
        "import torch.nn.functional as F \n",
        "import numpy as np\n",
        "import math\n",
        "import cv2\n",
        "import time\n",
        "\n",
        "def gaussian(window_size, sigma):\n",
        "    gauss =  torch.Tensor([math.exp(-(x - window_size//2)**2/float(2*sigma**2)) for x in range(window_size)])\n",
        "    return gauss/gauss.sum()\n",
        "\n",
        "def cr_window(window_size, channel=1):\n",
        "    conv1 = gaussian(window_size=window_size, sigma=1.5).unsqueeze(1)\n",
        "    conv2 = conv1.mm(conv1.t()).float().unsqueeze(0).unsqueeze(0)\n",
        "\n",
        "    window = torch.Tensor(conv2.expand(channel, 1, window_size, window_size).contiguous())\n",
        "\n",
        "    return window\n",
        "\n",
        "def ssim(img1, img2, window_size=11, val_range=255, window=None, size_average=True, full=False):   \n",
        "    L = val_range\n",
        "    \n",
        "    try:\n",
        "        _, channels, height, width = img1.size()\n",
        "    except:\n",
        "        channels, height, width = img1.size()\n",
        "\n",
        "    if window is None:\n",
        "        real_size = min(window_size, height, width) \n",
        "        window = cr_window(real_size, channel=channels).to(img1.device)\n",
        "    \n",
        "    pad = window_size//2\n",
        "    mu1 = F.conv2d(img1, window, padding=pad, groups=channels)\n",
        "    mu2 = F.conv2d(img2, window, padding=pad, groups=channels)\n",
        "    \n",
        "    mu1_sq = mu1 ** 2\n",
        "    mu2_sq = mu2 ** 2 \n",
        "    mu12 = mu1 * mu2\n",
        "\n",
        "    sigma1_sq = F.conv2d(img1 * img1, window, padding=pad, groups=channels) - mu1_sq\n",
        "    sigma2_sq = F.conv2d(img2 * img2, window, padding=pad, groups=channels) - mu2_sq\n",
        "    sigma12 =  F.conv2d(img1 * img2, window, padding=pad, groups=channels) - mu12\n",
        "\n",
        "    C1 = (0.01 ) ** 2 \n",
        "    C2 = (0.03 ) ** 2 \n",
        "\n",
        "    contrast_metric = (2.0 * sigma12 + C2) / (sigma1_sq + sigma2_sq + C2)\n",
        "    contrast_metric = torch.mean(contrast_metric)\n",
        "\n",
        "    numerator1 = 2 * mu12 + C1  \n",
        "    numerator2 = 2 * sigma12 + C2\n",
        "    denominator1 = mu1_sq + mu2_sq + C1 \n",
        "    denominator2 = sigma1_sq + sigma2_sq + C2\n",
        "\n",
        "    ssim_score = (numerator1 * numerator2) / (denominator1 * denominator2)\n",
        "\n",
        "    if size_average:\n",
        "        ret = ssim_score.mean() \n",
        "    else: \n",
        "        ret = ssim_score.mean(1).mean(1).mean(1)\n",
        "    \n",
        "    if full:\n",
        "        return ret, contrast_metric\n",
        "    \n",
        "    return ret"
      ]
    },
    {
      "cell_type": "code",
      "execution_count": null,
      "metadata": {
        "id": "VQLAxC3_yBxm"
      },
      "outputs": [],
      "source": [
        "gauss_dis = gaussian(11, 1.5)\n",
        "window = cr_window(11, 3)\n",
        "\n",
        "load_images = lambda path, h, w: cv2.resize(cv2.cvtColor(cv2.imread(path, cv2.IMREAD_UNCHANGED), cv2.COLOR_BGR2RGB), ((w, h)))\n",
        "tensorify = lambda x: torch.Tensor(x.transpose((2, 0, 1))).unsqueeze(0).float().div(255.0)"
      ]
    },
    {
      "cell_type": "code",
      "execution_count": null,
      "metadata": {
        "colab": {
          "base_uri": "https://localhost:8080/"
        },
        "id": "ulaJUaCa-e9-",
        "outputId": "d5af01b6-8fee-4e6b-ca66-a1b21066a6d5"
      },
      "outputs": [
        {
          "name": "stdout",
          "output_type": "stream",
          "text": [
            "image:  /content/i01_16_1.bmp\n",
            "score: 0.9955\n",
            "time:  0.9464876651763916\n",
            "\n",
            "image:  /content/i01_16_2.bmp\n",
            "score: 0.9919\n",
            "time:  0.8976011276245117\n",
            "\n",
            "image:  /content/i01_16_3.bmp\n",
            "score: 0.9427\n",
            "time:  0.8980822563171387\n",
            "\n",
            "image:  /content/i01_16_4.bmp\n",
            "score: 0.9521\n",
            "time:  0.8998081684112549\n",
            "\n",
            "image:  /content/i01_16_5.bmp\n",
            "score: 0.8078\n",
            "time:  0.9128344058990479\n",
            "\n",
            "time_mean:  0.9119059085845947\n"
          ]
        }
      ],
      "source": [
        "Distortion_image_1 = ['/content/i01_16_1.bmp', '/content/i01_16_2.bmp', '/content/i01_16_3.bmp', '/content/i01_16_4.bmp', '/content/i01_16_5.bmp']\n",
        "time_mean_list = []\n",
        "\n",
        "for image in Distortion_image_1:\n",
        "  start = time.time()\n",
        "\n",
        "  img_tensor = tensorify(load_images(\"/content/I01.bmp\", 400, 300))\n",
        "  noise_tensor = tensorify(load_images(image, 400, 300))\n",
        "\n",
        "  test = ssim(img_tensor, noise_tensor)\n",
        "  result = test.detach().cpu().numpy()\n",
        "  print(\"image: \", image)\n",
        "  print(\"score: %.4f\" % result.item())\n",
        "  print(\"time: \", time.time() - start)\n",
        "  time_data = time.time() - start\n",
        "  time_mean_list.append(time_data)\n",
        "  print(\"\")\n",
        "\n",
        "print(\"time_mean: \", np.mean(time_mean_list))"
      ]
    },
    {
      "cell_type": "code",
      "execution_count": null,
      "metadata": {
        "colab": {
          "base_uri": "https://localhost:8080/"
        },
        "id": "CWM8oGjv_GFW",
        "outputId": "c63eeb83-b767-4114-d8ff-14a8d6ba81cb"
      },
      "outputs": [
        {
          "name": "stdout",
          "output_type": "stream",
          "text": [
            "image:  /content/i02_16_1.bmp\n",
            "score: 0.9827\n",
            "time:  0.9720029830932617\n",
            "\n",
            "image:  /content/i02_16_2.bmp\n",
            "score: 0.9750\n",
            "time:  0.8892922401428223\n",
            "\n",
            "image:  /content/i02_16_3.bmp\n",
            "score: 0.7900\n",
            "time:  0.9191651344299316\n",
            "\n",
            "image:  /content/i02_16_4.bmp\n",
            "score: 0.8809\n",
            "time:  0.9287288188934326\n",
            "\n",
            "image:  /content/i02_16_5.bmp\n",
            "score: 0.4991\n",
            "time:  0.903350830078125\n",
            "\n",
            "time_mean:  0.9234544277191162\n"
          ]
        }
      ],
      "source": [
        "Distortion_image_2 = ['/content/i02_16_1.bmp', '/content/i02_16_2.bmp', '/content/i02_16_3.bmp', '/content/i02_16_4.bmp', '/content/i02_16_5.bmp']\n",
        "time_mean_list = []\n",
        "\n",
        "for image in Distortion_image_2:\n",
        "  start = time.time()\n",
        "\n",
        "  img_tensor = tensorify(load_images(\"/content/I02.bmp\", 400, 300))\n",
        "  noise_tensor = tensorify(load_images(image, 400, 300))\n",
        "\n",
        "  test = ssim(img_tensor, noise_tensor)\n",
        "  result = test.detach().cpu().numpy()\n",
        "  print(\"image: \", image)\n",
        "  print(\"score: %.4f\" % result.item())\n",
        "  print(\"time: \", time.time() - start)\n",
        "  time_data = time.time() - start\n",
        "  time_mean_list.append(time_data)\n",
        "  print(\"\")\n",
        "\n",
        "print(\"time_mean: \", np.mean(time_mean_list))"
      ]
    },
    {
      "cell_type": "code",
      "execution_count": null,
      "metadata": {
        "colab": {
          "base_uri": "https://localhost:8080/"
        },
        "id": "53lcd6sS_F_H",
        "outputId": "7a5aba5b-5704-439f-9a17-ae0c1af767ca"
      },
      "outputs": [
        {
          "name": "stdout",
          "output_type": "stream",
          "text": [
            "image:  /content/i03_11_1.BMP\n",
            "score: 0.9350\n",
            "time:  0.9411866664886475\n",
            "\n",
            "image:  /content/i03_11_2.bmp\n",
            "score: 0.8715\n",
            "time:  0.8875589370727539\n",
            "\n",
            "image:  /content/i03_11_3.bmp\n",
            "score: 0.7960\n",
            "time:  0.9303674697875977\n",
            "\n",
            "image:  /content/i03_11_4.bmp\n",
            "score: 0.7179\n",
            "time:  1.1756706237792969\n",
            "\n",
            "image:  /content/i03_11_5.bmp\n",
            "score: 0.6786\n",
            "time:  0.9115631580352783\n",
            "\n",
            "image:  /content/i03_16_1.bmp\n",
            "score: 0.9771\n",
            "time:  0.9038429260253906\n",
            "\n",
            "image:  /content/i03_16_2.bmp\n",
            "score: 0.9747\n",
            "time:  0.9161560535430908\n",
            "\n",
            "image:  /content/i03_16_3.bmp\n",
            "score: 0.8660\n",
            "time:  0.9224298000335693\n",
            "\n",
            "image:  /content/i03_16_4.bmp\n",
            "score: 0.9017\n",
            "time:  0.8965530395507812\n",
            "\n",
            "image:  /content/i03_16_5.bmp\n",
            "score: 0.6764\n",
            "time:  0.9373311996459961\n",
            "\n",
            "time_mean:  0.9436602115631103\n"
          ]
        }
      ],
      "source": [
        "Distortion_image_3 = ['/content/i03_11_1.BMP', '/content/i03_11_2.bmp', '/content/i03_11_3.bmp', '/content/i03_11_4.bmp', '/content/i03_11_5.bmp', '/content/i03_16_1.bmp', '/content/i03_16_2.bmp', '/content/i03_16_3.bmp', '/content/i03_16_4.bmp', '/content/i03_16_5.bmp']\n",
        "time_mean_list = []\n",
        "\n",
        "for image in Distortion_image_3:\n",
        "  start = time.time()\n",
        "\n",
        "  img_tensor = tensorify(load_images(\"/content/I03.bmp\", 400, 300))\n",
        "  noise_tensor = tensorify(load_images(image, 400, 300))\n",
        "\n",
        "  test = ssim(img_tensor, noise_tensor)\n",
        "  result = test.detach().cpu().numpy()\n",
        "  print(\"image: \", image)\n",
        "  print(\"score: %.4f\" % result.item())\n",
        "  print(\"time: \", time.time() - start)\n",
        "  time_data = time.time() - start\n",
        "  time_mean_list.append(time_data)\n",
        "  print(\"\")\n",
        "\n",
        "print(\"time_mean: \", np.mean(time_mean_list))"
      ]
    },
    {
      "cell_type": "code",
      "execution_count": null,
      "metadata": {
        "colab": {
          "base_uri": "https://localhost:8080/"
        },
        "id": "dot4hwGu_HBO",
        "outputId": "52b34b3b-5649-45bc-825e-c7e97db1c6ec"
      },
      "outputs": [
        {
          "name": "stdout",
          "output_type": "stream",
          "text": [
            "image:  /content/i04_16_1.bmp\n",
            "score: 0.9918\n",
            "time:  0.8907532691955566\n",
            "\n",
            "image:  /content/i04_16_2.bmp\n",
            "score: 0.9869\n",
            "time:  0.9112069606781006\n",
            "\n",
            "image:  /content/i04_16_3.bmp\n",
            "score: 0.9015\n",
            "time:  0.9119734764099121\n",
            "\n",
            "image:  /content/i04_16_4.bmp\n",
            "score: 0.9298\n",
            "time:  0.901188850402832\n",
            "\n",
            "image:  /content/i04_16_5.bmp\n",
            "score: 0.6970\n",
            "time:  0.896723747253418\n",
            "\n",
            "time_mean:  0.9030497074127197\n"
          ]
        }
      ],
      "source": [
        "Distortion_image_4 = ['/content/i04_16_1.bmp', '/content/i04_16_2.bmp', '/content/i04_16_3.bmp', '/content/i04_16_4.bmp', '/content/i04_16_5.bmp']\n",
        "time_mean_list = []\n",
        "\n",
        "for image in Distortion_image_4:\n",
        "  start = time.time()\n",
        "\n",
        "  img_tensor = tensorify(load_images(\"/content/I04.bmp\", 400, 300))\n",
        "  noise_tensor = tensorify(load_images(image, 400, 300))\n",
        "\n",
        "  test = ssim(img_tensor, noise_tensor)\n",
        "  result = test.detach().cpu().numpy()\n",
        "  print(\"image: \", image)\n",
        "  print(\"score: %.4f\" % result.item())\n",
        "  print(\"time: \", time.time() - start)\n",
        "  time_data = time.time() - start\n",
        "  time_mean_list.append(time_data)\n",
        "  print(\"\")\n",
        "\n",
        "print(\"time_mean: \", np.mean(time_mean_list))"
      ]
    },
    {
      "cell_type": "code",
      "execution_count": null,
      "metadata": {
        "colab": {
          "base_uri": "https://localhost:8080/"
        },
        "id": "NNDBmXlg_IPm",
        "outputId": "10e4c661-597b-4cc1-bc2d-6f8cc98b1a66"
      },
      "outputs": [
        {
          "name": "stdout",
          "output_type": "stream",
          "text": [
            "image:  /content/i05_16_1.bmp\n",
            "score: 0.9887\n",
            "time:  0.9480907917022705\n",
            "\n",
            "image:  /content/i05_16_2.bmp\n",
            "score: 0.9823\n",
            "time:  0.8916668891906738\n",
            "\n",
            "image:  /content/i05_16_3.bmp\n",
            "score: 0.8782\n",
            "time:  0.8921511173248291\n",
            "\n",
            "image:  /content/i05_16_4.bmp\n",
            "score: 0.9081\n",
            "time:  0.9122333526611328\n",
            "\n",
            "image:  /content/i05_16_5.bmp\n",
            "score: 0.6563\n",
            "time:  0.9050157070159912\n",
            "\n",
            "time_mean:  0.9111969947814942\n"
          ]
        }
      ],
      "source": [
        "Distortion_image_5 = ['/content/i05_16_1.bmp', '/content/i05_16_2.bmp', '/content/i05_16_3.bmp', '/content/i05_16_4.bmp', '/content/i05_16_5.bmp']\n",
        "time_mean_list = []\n",
        "\n",
        "for image in Distortion_image_5:\n",
        "  start = time.time()\n",
        "\n",
        "  img_tensor = tensorify(load_images(\"/content/I05.bmp\", 400, 300))\n",
        "  noise_tensor = tensorify(load_images(image, 400, 300))\n",
        "\n",
        "  test = ssim(img_tensor, noise_tensor)\n",
        "  result = test.detach().cpu().numpy()\n",
        "  print(\"image: \", image)\n",
        "  print(\"score: %.4f\" % result.item())\n",
        "  print(\"time: \", time.time() - start)\n",
        "  time_data = time.time() - start\n",
        "  time_mean_list.append(time_data)\n",
        "  print(\"\")\n",
        "\n",
        "print(\"time_mean: \", np.mean(time_mean_list))"
      ]
    }
  ],
  "metadata": {
    "colab": {
      "provenance": []
    },
    "kernelspec": {
      "display_name": "Python 3",
      "language": "python",
      "name": "python3"
    },
    "language_info": {
      "name": "python",
      "version": "3.8.10 (tags/v3.8.10:3d8993a, May  3 2021, 11:48:03) [MSC v.1928 64 bit (AMD64)]"
    },
    "vscode": {
      "interpreter": {
        "hash": "63d6aed4d5b0945fe63dbd367d48770739d7fbeffc1062f5b3e3596c0f4c813c"
      }
    }
  },
  "nbformat": 4,
  "nbformat_minor": 0
}
